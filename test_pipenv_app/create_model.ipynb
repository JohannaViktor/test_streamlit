{
 "cells": [
  {
   "cell_type": "code",
   "execution_count": 1,
   "id": "0aeeccf2-9507-436a-90d2-d3525e524f57",
   "metadata": {},
   "outputs": [],
   "source": [
    "import pickle\n",
    "import pandas as pd\n",
    "from sklearn.preprocessing import LabelEncoder\n",
    "from sklearn.linear_model import LogisticRegression\n",
    "from sklearn.metrics import precision_recall_fscore_support, accuracy_score"
   ]
  },
  {
   "cell_type": "code",
   "execution_count": 2,
   "id": "db5f0485-f0ec-4d0e-8cda-f9ed859c4cab",
   "metadata": {},
   "outputs": [],
   "source": [
    "train = pd.read_csv(\"./data/training_data.csv\")\n",
    "train.drop(\"customerID\",axis=1,inplace=True)"
   ]
  },
  {
   "cell_type": "code",
   "execution_count": 3,
   "id": "d90c0390-d9d8-4d08-ba8f-a143a21e4468",
   "metadata": {},
   "outputs": [
    {
     "data": {
      "text/html": [
       "<div>\n",
       "<style scoped>\n",
       "    .dataframe tbody tr th:only-of-type {\n",
       "        vertical-align: middle;\n",
       "    }\n",
       "\n",
       "    .dataframe tbody tr th {\n",
       "        vertical-align: top;\n",
       "    }\n",
       "\n",
       "    .dataframe thead th {\n",
       "        text-align: right;\n",
       "    }\n",
       "</style>\n",
       "<table border=\"1\" class=\"dataframe\">\n",
       "  <thead>\n",
       "    <tr style=\"text-align: right;\">\n",
       "      <th></th>\n",
       "      <th>customerID</th>\n",
       "      <th>gender</th>\n",
       "      <th>SeniorCitizen</th>\n",
       "      <th>Partner</th>\n",
       "      <th>Dependents</th>\n",
       "      <th>tenure</th>\n",
       "      <th>PhoneService</th>\n",
       "      <th>MultipleLines</th>\n",
       "      <th>InternetService</th>\n",
       "      <th>OnlineSecurity</th>\n",
       "      <th>...</th>\n",
       "      <th>DeviceProtection</th>\n",
       "      <th>TechSupport</th>\n",
       "      <th>StreamingTV</th>\n",
       "      <th>StreamingMovies</th>\n",
       "      <th>Contract</th>\n",
       "      <th>PaperlessBilling</th>\n",
       "      <th>PaymentMethod</th>\n",
       "      <th>MonthlyCharges</th>\n",
       "      <th>TotalCharges</th>\n",
       "      <th>Churn</th>\n",
       "    </tr>\n",
       "  </thead>\n",
       "  <tbody>\n",
       "    <tr>\n",
       "      <th>0</th>\n",
       "      <td>0420-HLGXF</td>\n",
       "      <td>Female</td>\n",
       "      <td>1</td>\n",
       "      <td>No</td>\n",
       "      <td>No</td>\n",
       "      <td>39</td>\n",
       "      <td>Yes</td>\n",
       "      <td>Yes</td>\n",
       "      <td>Fiber optic</td>\n",
       "      <td>No</td>\n",
       "      <td>...</td>\n",
       "      <td>Yes</td>\n",
       "      <td>No</td>\n",
       "      <td>Yes</td>\n",
       "      <td>Yes</td>\n",
       "      <td>Month-to-month</td>\n",
       "      <td>Yes</td>\n",
       "      <td>Electronic check</td>\n",
       "      <td>99.75</td>\n",
       "      <td>4036.00</td>\n",
       "      <td>No</td>\n",
       "    </tr>\n",
       "    <tr>\n",
       "      <th>1</th>\n",
       "      <td>5193-QLVZB</td>\n",
       "      <td>Male</td>\n",
       "      <td>0</td>\n",
       "      <td>No</td>\n",
       "      <td>No</td>\n",
       "      <td>63</td>\n",
       "      <td>Yes</td>\n",
       "      <td>Yes</td>\n",
       "      <td>Fiber optic</td>\n",
       "      <td>No</td>\n",
       "      <td>...</td>\n",
       "      <td>Yes</td>\n",
       "      <td>No</td>\n",
       "      <td>Yes</td>\n",
       "      <td>Yes</td>\n",
       "      <td>Two year</td>\n",
       "      <td>Yes</td>\n",
       "      <td>Bank transfer (automatic)</td>\n",
       "      <td>104.75</td>\n",
       "      <td>6536.50</td>\n",
       "      <td>No</td>\n",
       "    </tr>\n",
       "    <tr>\n",
       "      <th>2</th>\n",
       "      <td>5598-IKHQQ</td>\n",
       "      <td>Female</td>\n",
       "      <td>0</td>\n",
       "      <td>No</td>\n",
       "      <td>No</td>\n",
       "      <td>72</td>\n",
       "      <td>Yes</td>\n",
       "      <td>Yes</td>\n",
       "      <td>No</td>\n",
       "      <td>No internet service</td>\n",
       "      <td>...</td>\n",
       "      <td>No internet service</td>\n",
       "      <td>No internet service</td>\n",
       "      <td>No internet service</td>\n",
       "      <td>No internet service</td>\n",
       "      <td>Two year</td>\n",
       "      <td>No</td>\n",
       "      <td>Credit card (automatic)</td>\n",
       "      <td>25.45</td>\n",
       "      <td>1866.45</td>\n",
       "      <td>No</td>\n",
       "    </tr>\n",
       "    <tr>\n",
       "      <th>3</th>\n",
       "      <td>8749-CLJXC</td>\n",
       "      <td>Male</td>\n",
       "      <td>0</td>\n",
       "      <td>No</td>\n",
       "      <td>No</td>\n",
       "      <td>1</td>\n",
       "      <td>Yes</td>\n",
       "      <td>No</td>\n",
       "      <td>No</td>\n",
       "      <td>No internet service</td>\n",
       "      <td>...</td>\n",
       "      <td>No internet service</td>\n",
       "      <td>No internet service</td>\n",
       "      <td>No internet service</td>\n",
       "      <td>No internet service</td>\n",
       "      <td>Month-to-month</td>\n",
       "      <td>No</td>\n",
       "      <td>Mailed check</td>\n",
       "      <td>20.05</td>\n",
       "      <td>20.05</td>\n",
       "      <td>No</td>\n",
       "    </tr>\n",
       "    <tr>\n",
       "      <th>4</th>\n",
       "      <td>2252-NKNSI</td>\n",
       "      <td>Male</td>\n",
       "      <td>0</td>\n",
       "      <td>No</td>\n",
       "      <td>Yes</td>\n",
       "      <td>52</td>\n",
       "      <td>Yes</td>\n",
       "      <td>Yes</td>\n",
       "      <td>DSL</td>\n",
       "      <td>Yes</td>\n",
       "      <td>...</td>\n",
       "      <td>No</td>\n",
       "      <td>Yes</td>\n",
       "      <td>Yes</td>\n",
       "      <td>Yes</td>\n",
       "      <td>Two year</td>\n",
       "      <td>Yes</td>\n",
       "      <td>Mailed check</td>\n",
       "      <td>85.15</td>\n",
       "      <td>4461.85</td>\n",
       "      <td>No</td>\n",
       "    </tr>\n",
       "  </tbody>\n",
       "</table>\n",
       "<p>5 rows × 21 columns</p>\n",
       "</div>"
      ],
      "text/plain": [
       "   customerID  gender  SeniorCitizen Partner Dependents  tenure PhoneService  \\\n",
       "0  0420-HLGXF  Female              1      No         No      39          Yes   \n",
       "1  5193-QLVZB    Male              0      No         No      63          Yes   \n",
       "2  5598-IKHQQ  Female              0      No         No      72          Yes   \n",
       "3  8749-CLJXC    Male              0      No         No       1          Yes   \n",
       "4  2252-NKNSI    Male              0      No        Yes      52          Yes   \n",
       "\n",
       "  MultipleLines InternetService       OnlineSecurity  ...  \\\n",
       "0           Yes     Fiber optic                   No  ...   \n",
       "1           Yes     Fiber optic                   No  ...   \n",
       "2           Yes              No  No internet service  ...   \n",
       "3            No              No  No internet service  ...   \n",
       "4           Yes             DSL                  Yes  ...   \n",
       "\n",
       "      DeviceProtection          TechSupport          StreamingTV  \\\n",
       "0                  Yes                   No                  Yes   \n",
       "1                  Yes                   No                  Yes   \n",
       "2  No internet service  No internet service  No internet service   \n",
       "3  No internet service  No internet service  No internet service   \n",
       "4                   No                  Yes                  Yes   \n",
       "\n",
       "       StreamingMovies        Contract PaperlessBilling  \\\n",
       "0                  Yes  Month-to-month              Yes   \n",
       "1                  Yes        Two year              Yes   \n",
       "2  No internet service        Two year               No   \n",
       "3  No internet service  Month-to-month               No   \n",
       "4                  Yes        Two year              Yes   \n",
       "\n",
       "               PaymentMethod MonthlyCharges  TotalCharges  Churn  \n",
       "0           Electronic check          99.75       4036.00     No  \n",
       "1  Bank transfer (automatic)         104.75       6536.50     No  \n",
       "2    Credit card (automatic)          25.45       1866.45     No  \n",
       "3               Mailed check          20.05         20.05     No  \n",
       "4               Mailed check          85.15       4461.85     No  \n",
       "\n",
       "[5 rows x 21 columns]"
      ]
     },
     "execution_count": 3,
     "metadata": {},
     "output_type": "execute_result"
    }
   ],
   "source": [
    "val = pd.read_csv(\"./data/validation_data.csv\")\n",
    "val.head()"
   ]
  },
  {
   "cell_type": "code",
   "execution_count": 4,
   "id": "c4f26cdb-2771-4b9d-91cd-489145991304",
   "metadata": {},
   "outputs": [
    {
     "name": "stdout",
     "output_type": "stream",
     "text": [
      "['Female' 'Male']\n"
     ]
    }
   ],
   "source": [
    "le_t = LabelEncoder()\n",
    "le_t.fit(train.loc[:,'gender'])\n",
    "print(le_t.classes_)"
   ]
  },
  {
   "cell_type": "code",
   "execution_count": 5,
   "id": "bbea019b-9382-482b-84bb-4a2c2cb5586f",
   "metadata": {},
   "outputs": [],
   "source": [
    "\n",
    "categorical_columns = [ 'gender', 'SeniorCitizen', 'Partner', 'Dependents',\n",
    "       'PhoneService', 'MultipleLines', 'InternetService',\n",
    "       'OnlineSecurity', 'OnlineBackup', 'DeviceProtection', 'TechSupport',\n",
    "       'StreamingTV', 'StreamingMovies', 'Contract', 'PaperlessBilling',\n",
    "       'PaymentMethod', 'Churn']\n",
    "col_mapper = {}\n",
    "for col in categorical_columns:\n",
    "    le = LabelEncoder()\n",
    "    le.fit(train.loc[:,col])\n",
    "    class_names = le.classes_\n",
    "    train.loc[:,col] = le.transform(train.loc[:,col])\n",
    "    col_mapper.update({col:le})\n",
    "    "
   ]
  },
  {
   "cell_type": "code",
   "execution_count": 6,
   "id": "4e4038bd-1181-41d8-b0aa-422dd9d60f15",
   "metadata": {},
   "outputs": [],
   "source": [
    "train.replace(\" \",\"0\",inplace=True)"
   ]
  },
  {
   "cell_type": "code",
   "execution_count": 7,
   "id": "8695acb3-ead8-4e0c-9e20-bec1767b2d3b",
   "metadata": {},
   "outputs": [],
   "source": [
    "train.loc[:,\"TotalCharges\"] = pd.to_numeric(train.loc[:,\"TotalCharges\"])"
   ]
  },
  {
   "cell_type": "code",
   "execution_count": 8,
   "id": "d1502372-3278-453c-8da2-a2d3caa1101f",
   "metadata": {},
   "outputs": [
    {
     "name": "stdout",
     "output_type": "stream",
     "text": [
      "<class 'pandas.core.series.Series'>\n",
      "RangeIndex: 5282 entries, 0 to 5281\n",
      "Series name: TotalCharges\n",
      "Non-Null Count  Dtype  \n",
      "--------------  -----  \n",
      "5282 non-null   float64\n",
      "dtypes: float64(1)\n",
      "memory usage: 41.4 KB\n"
     ]
    }
   ],
   "source": [
    "pd.to_numeric(train.loc[:,\"TotalCharges\"]).info()"
   ]
  },
  {
   "cell_type": "code",
   "execution_count": 9,
   "id": "e7d54bea-a5e1-449a-a1a4-ad6a288f80e9",
   "metadata": {},
   "outputs": [
    {
     "name": "stdout",
     "output_type": "stream",
     "text": [
      "<class 'pandas.core.frame.DataFrame'>\n",
      "RangeIndex: 5282 entries, 0 to 5281\n",
      "Data columns (total 20 columns):\n",
      " #   Column            Non-Null Count  Dtype  \n",
      "---  ------            --------------  -----  \n",
      " 0   gender            5282 non-null   int64  \n",
      " 1   SeniorCitizen     5282 non-null   int64  \n",
      " 2   Partner           5282 non-null   int64  \n",
      " 3   Dependents        5282 non-null   int64  \n",
      " 4   tenure            5282 non-null   int64  \n",
      " 5   PhoneService      5282 non-null   int64  \n",
      " 6   MultipleLines     5282 non-null   int64  \n",
      " 7   InternetService   5282 non-null   int64  \n",
      " 8   OnlineSecurity    5282 non-null   int64  \n",
      " 9   OnlineBackup      5282 non-null   int64  \n",
      " 10  DeviceProtection  5282 non-null   int64  \n",
      " 11  TechSupport       5282 non-null   int64  \n",
      " 12  StreamingTV       5282 non-null   int64  \n",
      " 13  StreamingMovies   5282 non-null   int64  \n",
      " 14  Contract          5282 non-null   int64  \n",
      " 15  PaperlessBilling  5282 non-null   int64  \n",
      " 16  PaymentMethod     5282 non-null   int64  \n",
      " 17  MonthlyCharges    5282 non-null   float64\n",
      " 18  TotalCharges      5282 non-null   object \n",
      " 19  Churn             5282 non-null   int64  \n",
      "dtypes: float64(1), int64(18), object(1)\n",
      "memory usage: 825.4+ KB\n"
     ]
    }
   ],
   "source": [
    "train.info()"
   ]
  },
  {
   "cell_type": "code",
   "execution_count": 10,
   "id": "a2e30b0c-4035-491e-b0fb-3b4da613bc90",
   "metadata": {},
   "outputs": [],
   "source": [
    "train.to_csv(\"./data/train_numeric.csv\")"
   ]
  },
  {
   "cell_type": "code",
   "execution_count": 11,
   "id": "9a4dda2c-685c-4b68-b1f3-517ba776ddaf",
   "metadata": {},
   "outputs": [],
   "source": [
    "def pre_prcess_data(df, label_encoder_dict):\n",
    "    df.drop(\"customerID\", axis=1, inplace=True)\n",
    "    for col in df.columns:\n",
    "        if col in list(label_encoder_dict.keys()):\n",
    "            column_le = label_encoder_dict[col]\n",
    "            df.loc[:,col] = column_le.transform(df.loc[:,col])\n",
    "        else:\n",
    "            continue\n",
    "    return df"
   ]
  },
  {
   "cell_type": "code",
   "execution_count": 12,
   "id": "6870f079-2f6e-4ef2-9889-cba6f57d0272",
   "metadata": {},
   "outputs": [],
   "source": [
    "x_train = train.drop(\"Churn\",axis=1)\n",
    "y_train = train.loc[:,\"Churn\"]\n"
   ]
  },
  {
   "cell_type": "code",
   "execution_count": 13,
   "id": "ea712b95-1582-49c8-8b4d-35fefda3093a",
   "metadata": {},
   "outputs": [],
   "source": [
    "model = LogisticRegression(max_iter=1000)\n",
    "model.fit(x_train,y_train)\n",
    "val = pre_prcess_data(val,col_mapper)\n",
    "x_val = val.drop(\"Churn\",axis=1)\n",
    "y_val = val.loc[:,\"Churn\"]"
   ]
  },
  {
   "cell_type": "code",
   "execution_count": 18,
   "id": "31ffb82c-dee8-4dad-9fb1-34f10d100501",
   "metadata": {},
   "outputs": [
    {
     "data": {
      "text/plain": [
       "array([-4.16508898e-04,  7.95153351e-04, -7.95153351e-04, -2.65051117e-04,\n",
       "        1.31692541e-01,  2.76410451e-03,  4.54373343e-04,  1.62817115e-03,\n",
       "        7.64861795e-03,  1.93108671e-03,  9.84475577e-04,  3.90003786e-03,\n",
       "       -6.81560015e-04, -3.78644453e-05,  2.18477849e-02,  6.89132904e-03,\n",
       "        1.13593336e-04,  3.11624385e-02,  3.93790231e-02])"
      ]
     },
     "execution_count": 18,
     "metadata": {},
     "output_type": "execute_result"
    }
   ],
   "source": [
    "import numpy as np\n",
    "\n",
    "from sklearn.inspection import permutation_importance\n",
    "\n",
    "\n",
    "model_fi = permutation_importance(model, x_train, y_train)\n",
    "model_fi['importances_mean']   "
   ]
  },
  {
   "cell_type": "code",
   "execution_count": 19,
   "id": "fd25cb0a-bb0e-4d56-a4ec-27ff729a34c1",
   "metadata": {},
   "outputs": [
    {
     "data": {
      "text/plain": [
       "Index(['gender', 'SeniorCitizen', 'Partner', 'Dependents', 'tenure',\n",
       "       'PhoneService', 'MultipleLines', 'InternetService', 'OnlineSecurity',\n",
       "       'OnlineBackup', 'DeviceProtection', 'TechSupport', 'StreamingTV',\n",
       "       'StreamingMovies', 'Contract', 'PaperlessBilling', 'PaymentMethod',\n",
       "       'MonthlyCharges', 'TotalCharges'],\n",
       "      dtype='object')"
      ]
     },
     "execution_count": 19,
     "metadata": {},
     "output_type": "execute_result"
    }
   ],
   "source": [
    "x_train.columns"
   ]
  },
  {
   "cell_type": "code",
   "execution_count": 18,
   "id": "5a128de6-919c-4fa8-a67d-548a71a5d25c",
   "metadata": {},
   "outputs": [],
   "source": [
    "predictions = model.predict(x_val)"
   ]
  },
  {
   "cell_type": "code",
   "execution_count": 26,
   "id": "4a871c43-598f-4e27-883a-fd2f19aa904a",
   "metadata": {},
   "outputs": [],
   "source": [
    "\n",
    "y_val = pd.to_numeric(y_val)"
   ]
  },
  {
   "cell_type": "code",
   "execution_count": 27,
   "id": "ab8a1e31-a6fd-4753-b183-5df1420e2a29",
   "metadata": {},
   "outputs": [
    {
     "name": "stdout",
     "output_type": "stream",
     "text": [
      "Validation accuracy is: 0.834\n"
     ]
    }
   ],
   "source": [
    "\n",
    "\n",
    "# predicting on validation\n",
    "predictions = model.predict(x_val)\n",
    "precision, recall, fscore, support = precision_recall_fscore_support(y_val, predictions)\n",
    "accuracy = accuracy_score(y_val, predictions)\n",
    "print(f\"Validation accuracy is: {round(accuracy, 3)}\")"
   ]
  },
  {
   "cell_type": "code",
   "execution_count": 28,
   "id": "e172d8de-5b41-435a-8f95-4b7a0564e797",
   "metadata": {},
   "outputs": [
    {
     "data": {
      "text/plain": [
       "array([0.89036545, 0.62264151])"
      ]
     },
     "execution_count": 28,
     "metadata": {},
     "output_type": "execute_result"
    }
   ],
   "source": [
    "precision"
   ]
  },
  {
   "cell_type": "code",
   "execution_count": 29,
   "id": "2276d98b-86fe-43b3-9b38-59e946405d13",
   "metadata": {},
   "outputs": [
    {
     "data": {
      "text/plain": [
       "array([0.89932886, 0.6       ])"
      ]
     },
     "execution_count": 29,
     "metadata": {},
     "output_type": "execute_result"
    }
   ],
   "source": [
    "recall"
   ]
  },
  {
   "cell_type": "code",
   "execution_count": 30,
   "id": "232d4b0c-792d-4114-b145-465115a6f9c5",
   "metadata": {},
   "outputs": [
    {
     "data": {
      "text/plain": [
       "array([0.89482471, 0.61111111])"
      ]
     },
     "execution_count": 30,
     "metadata": {},
     "output_type": "execute_result"
    }
   ],
   "source": [
    "fscore"
   ]
  },
  {
   "cell_type": "code",
   "execution_count": 31,
   "id": "4eea5345-1f8e-4e50-af5a-7d64533ab4b4",
   "metadata": {},
   "outputs": [
    {
     "data": {
      "text/plain": [
       "array([596, 165], dtype=int64)"
      ]
     },
     "execution_count": 31,
     "metadata": {},
     "output_type": "execute_result"
    }
   ],
   "source": [
    "support"
   ]
  },
  {
   "cell_type": "code",
   "execution_count": 32,
   "id": "12d23c47-9eab-4d49-b31c-317c3af5b34e",
   "metadata": {},
   "outputs": [],
   "source": [
    "pickler = open(\"churn_prediction_model.pkl\",\"wb\")\n",
    "pickle.dump(model,pickler)\n",
    "pickler.close()"
   ]
  },
  {
   "cell_type": "code",
   "execution_count": 33,
   "id": "22a9aa19-4d77-4625-b015-fd566e1f13bc",
   "metadata": {},
   "outputs": [],
   "source": [
    "pickler = open(\"churn_prediction_label_encoder.pkl\",\"wb\")\n",
    "pickle.dump(col_mapper, pickler)\n",
    "pickler.close()"
   ]
  },
  {
   "cell_type": "code",
   "execution_count": null,
   "id": "570c2cfd-a397-42db-b546-0cf0260ac086",
   "metadata": {},
   "outputs": [],
   "source": []
  }
 ],
 "metadata": {
  "kernelspec": {
   "display_name": "Python 3 (ipykernel)",
   "language": "python",
   "name": "python3"
  },
  "language_info": {
   "codemirror_mode": {
    "name": "ipython",
    "version": 3
   },
   "file_extension": ".py",
   "mimetype": "text/x-python",
   "name": "python",
   "nbconvert_exporter": "python",
   "pygments_lexer": "ipython3",
   "version": "3.10.9"
  }
 },
 "nbformat": 4,
 "nbformat_minor": 5
}
